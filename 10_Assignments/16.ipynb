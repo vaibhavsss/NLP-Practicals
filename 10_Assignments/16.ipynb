{
 "cells": [
  {
   "cell_type": "code",
   "execution_count": 4,
   "id": "1b6199a6",
   "metadata": {},
   "outputs": [],
   "source": [
    "# Use Word2Vec to find similar words to a given word using the gensim library."
   ]
  },
  {
   "cell_type": "code",
   "execution_count": 9,
   "id": "870f5bb0",
   "metadata": {},
   "outputs": [
    {
     "name": "stdout",
     "output_type": "stream",
     "text": [
      "Found existing installation: numpy 1.26.4\n",
      "Uninstalling numpy-1.26.4:\n",
      "  Successfully uninstalled numpy-1.26.4\n",
      "\u001b[33mWARNING: Skipping blis as it is not installed.\u001b[0m\u001b[33m\n",
      "\u001b[0m\u001b[33mWARNING: Skipping thinc as it is not installed.\u001b[0m\u001b[33m\n",
      "\u001b[0mFound existing installation: gensim 4.3.3\n",
      "Uninstalling gensim-4.3.3:\n",
      "  Successfully uninstalled gensim-4.3.3\n"
     ]
    }
   ],
   "source": [
    "!pip uninstall -y numpy blis thinc gensim"
   ]
  },
  {
   "cell_type": "code",
   "execution_count": 10,
   "id": "747ed1d2",
   "metadata": {},
   "outputs": [
    {
     "name": "stdout",
     "output_type": "stream",
     "text": [
      "Collecting gensim\n",
      "  Using cached gensim-4.3.3-cp312-cp312-macosx_10_9_x86_64.whl.metadata (8.1 kB)\n",
      "Collecting numpy<2.0,>=1.18.5 (from gensim)\n",
      "  Using cached numpy-1.26.4-cp312-cp312-macosx_10_9_x86_64.whl.metadata (61 kB)\n",
      "Requirement already satisfied: scipy<1.14.0,>=1.7.0 in /Users/itami-macbook/miniconda3/lib/python3.12/site-packages (from gensim) (1.13.1)\n",
      "Requirement already satisfied: smart-open>=1.8.1 in /Users/itami-macbook/miniconda3/lib/python3.12/site-packages (from gensim) (5.2.1)\n",
      "Using cached gensim-4.3.3-cp312-cp312-macosx_10_9_x86_64.whl (24.1 MB)\n",
      "Using cached numpy-1.26.4-cp312-cp312-macosx_10_9_x86_64.whl (20.3 MB)\n",
      "Installing collected packages: numpy, gensim\n",
      "\u001b[31mERROR: pip's dependency resolver does not currently take into account all the packages that are installed. This behaviour is the source of the following dependency conflicts.\n",
      "spacy 3.8.2 requires thinc<8.4.0,>=8.3.0, which is not installed.\u001b[0m\u001b[31m\n",
      "\u001b[0mSuccessfully installed gensim-4.3.3 numpy-1.26.4\n"
     ]
    }
   ],
   "source": [
    "!pip install gensim\n"
   ]
  },
  {
   "cell_type": "code",
   "execution_count": 11,
   "id": "fee05b01",
   "metadata": {},
   "outputs": [
    {
     "name": "stdout",
     "output_type": "stream",
     "text": [
      "[==================================================] 100.0% 1662.8/1662.8MB downloaded\n",
      "kings: 0.7138045430183411\n",
      "queen: 0.6510956883430481\n",
      "monarch: 0.6413194537162781\n",
      "crown_prince: 0.6204220056533813\n",
      "prince: 0.6159993410110474\n",
      "sultan: 0.5864824056625366\n",
      "ruler: 0.5797567367553711\n",
      "princes: 0.5646552443504333\n",
      "Prince_Paras: 0.5432944297790527\n",
      "throne: 0.5422105193138123\n"
     ]
    }
   ],
   "source": [
    "import gensim.downloader as api\n",
    "\n",
    "model = api.load(\"word2vec-google-news-300\")\n",
    "\n",
    "word = \"king\"\n",
    "\n",
    "similar_words = model.most_similar(word, topn=10)\n",
    "\n",
    "for similar_word in similar_words:\n",
    "    print(f\"{similar_word[0]}: {similar_word[1]}\")\n"
   ]
  }
 ],
 "metadata": {
  "kernelspec": {
   "display_name": "base",
   "language": "python",
   "name": "python3"
  },
  "language_info": {
   "codemirror_mode": {
    "name": "ipython",
    "version": 3
   },
   "file_extension": ".py",
   "mimetype": "text/x-python",
   "name": "python",
   "nbconvert_exporter": "python",
   "pygments_lexer": "ipython3",
   "version": "3.12.4"
  }
 },
 "nbformat": 4,
 "nbformat_minor": 5
}
