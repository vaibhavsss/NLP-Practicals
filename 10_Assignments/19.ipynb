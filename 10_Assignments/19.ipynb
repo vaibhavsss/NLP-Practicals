{
 "cells": [
  {
   "cell_type": "code",
   "execution_count": 1,
   "id": "58a7bd7a",
   "metadata": {},
   "outputs": [
    {
     "name": "stdout",
     "output_type": "stream",
     "text": [
      "🤖 Chatbot is ready! Type 'bye' to exit.\n",
      "\n",
      "Chatbot: Hello there! How can I help you today?\n",
      "Chatbot: I'm just a bunch of Python code, but I'm feeling chatty!\n",
      "Chatbot: Goodbye! 👋\n"
     ]
    }
   ],
   "source": [
    "# Simple Rule-Based Chatbot\n",
    "\n",
    "def chatbot_response(user_input):\n",
    "    user_input = user_input.lower()\n",
    "\n",
    "    if \"hello\" in user_input or \"hi\" in user_input:\n",
    "        return \"Hello there! How can I help you today?\"\n",
    "    elif \"how are you\" in user_input:\n",
    "        return \"I'm just a bunch of Python code, but I'm feeling chatty!\"\n",
    "    elif \"name\" in user_input:\n",
    "        return \"I'm your friendly Python chatbot 🤖\"\n",
    "    elif \"bye\" in user_input or \"goodbye\" in user_input:\n",
    "        return \"Goodbye! Have a great day! 👋\"\n",
    "    elif \"thanks\" in user_input or \"thank you\" in user_input:\n",
    "        return \"You're welcome!\"\n",
    "    else:\n",
    "        return \"Hmm... I'm not sure how to respond to that. Can you rephrase?\"\n",
    "\n",
    "# Chat loop\n",
    "print(\"🤖 Chatbot is ready! Type 'bye' to exit.\\n\")\n",
    "\n",
    "while True:\n",
    "    user_input = input(\"You: \")\n",
    "    if user_input.lower() in [\"bye\", \"exit\", \"quit\"]:\n",
    "        print(\"Chatbot: Goodbye! 👋\")\n",
    "        break\n",
    "    response = chatbot_response(user_input)\n",
    "    print(\"Chatbot:\", response)\n"
   ]
  }
 ],
 "metadata": {
  "kernelspec": {
   "display_name": "base",
   "language": "python",
   "name": "python3"
  },
  "language_info": {
   "codemirror_mode": {
    "name": "ipython",
    "version": 3
   },
   "file_extension": ".py",
   "mimetype": "text/x-python",
   "name": "python",
   "nbconvert_exporter": "python",
   "pygments_lexer": "ipython3",
   "version": "3.12.4"
  }
 },
 "nbformat": 4,
 "nbformat_minor": 5
}
